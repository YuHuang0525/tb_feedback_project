{
 "cells": [
  {
   "cell_type": "code",
   "execution_count": 1,
   "id": "14bca78a",
   "metadata": {},
   "outputs": [],
   "source": [
    "from selenium import webdriver\n",
    "from webdriver_manager.chrome import ChromeDriverManager\n",
    "from selenium.webdriver.common.by import By\n",
    "from selenium.webdriver.support.ui import WebDriverWait\n",
    "from selenium.webdriver.support import expected_conditions as EC\n",
    "from selenium.common.exceptions import TimeoutException"
   ]
  },
  {
   "cell_type": "code",
   "execution_count": 52,
   "id": "95cced5c",
   "metadata": {},
   "outputs": [
    {
     "name": "stderr",
     "output_type": "stream",
     "text": [
      "[WDM] - \n",
      "\n",
      "[WDM] - ====== WebDriver manager ======\n",
      "[WDM] - Current google-chrome version is 95.0.4638\n",
      "[WDM] - Get LATEST driver version for 95.0.4638\n",
      "[WDM] - Driver [C:\\Users\\YH\\.wdm\\drivers\\chromedriver\\win32\\95.0.4638.54\\chromedriver.exe] found in cache\n",
      "<ipython-input-52-f004ae8d437d>:1: DeprecationWarning: executable_path has been deprecated, please pass in a Service object\n",
      "  driver = webdriver.Chrome(ChromeDriverManager().install())\n"
     ]
    }
   ],
   "source": [
    "driver = webdriver.Chrome(ChromeDriverManager().install())\n",
    "wait = WebDriverWait(driver, 30)"
   ]
  },
  {
   "cell_type": "code",
   "execution_count": 53,
   "id": "2b0e4c0b",
   "metadata": {},
   "outputs": [],
   "source": [
    "def search():\n",
    "    try:\n",
    "        driver.get('https://detail.tmall.com/item.htm?spm=a230r.1.14.161.3446631fe8NHUb&id=653068620195&ns=1&abbucket=7')\n",
    "        # 等待搜索框加载出来\n",
    "    except TimeoutException:\n",
    "        # 如果出现超时异常，重新执行search()函数\n",
    "        return search()"
   ]
  },
  {
   "cell_type": "code",
   "execution_count": 8,
   "id": "ec6e6674",
   "metadata": {},
   "outputs": [],
   "source": [
    "def next_page(i):\n",
    "    try:\n",
    "        if i < 7:\n",
    "            page_selector = '#J_Reviews > div > div.rate-page > div > a:nth-child({})'.format(i+5)\n",
    "            submit = wait.until(\n",
    "                EC.element_to_be_clickable((By.CSS_SELECTOR, page_selector))\n",
    "            )\n",
    "            # 点击确定，进行翻页\n",
    "            submit.click()\n",
    "        elif i == 26:\n",
    "            page_selector = '#J_Reviews > div > div.rate-page > div > a:nth-child({})'.format(9)\n",
    "            submit = wait.until(\n",
    "                EC.element_to_be_clickable((By.CSS_SELECTOR, page_selector))\n",
    "            )\n",
    "            # 点击确定，进行翻页\n",
    "            submit.click()\n",
    "        else:\n",
    "            page_selector = '#J_Reviews > div > div.rate-page > div > a:nth-child({})'.format(11)\n",
    "            submit = wait.until(\n",
    "                EC.element_to_be_clickable((By.CSS_SELECTOR, page_selector))\n",
    "            )\n",
    "            # 点击确定，进行翻页\n",
    "            submit.click()\n",
    "    except TimeoutException:\n",
    "        next_page(i)"
   ]
  },
  {
   "cell_type": "code",
   "execution_count": 9,
   "id": "f259a615",
   "metadata": {},
   "outputs": [],
   "source": [
    "# import PyQuery to strip html to text\n",
    "from pyquery import PyQuery as pq"
   ]
  },
  {
   "cell_type": "code",
   "execution_count": 50,
   "id": "a720ad02",
   "metadata": {},
   "outputs": [],
   "source": [
    "global_reviews = []\n",
    "\n",
    "def get_products():\n",
    "    # 确保商品信息完全加载完毕\n",
    "    wait.until(\n",
    "        EC.presence_of_element_located((By.CSS_SELECTOR, '#J_Reviews .tm-rate .tm-rate-content'))\n",
    "    )\n",
    "    # 获取网页源码\n",
    "    html = driver.page_source\n",
    "    doc = pq(html)\n",
    "    ## 注意这个地方需要在下面的item find（）中的div的上一层div！！！只用管div，tr之类的都不用管\n",
    "    items1 = doc('#J_Reviews .tm-rate .tm-rate-content').items()\n",
    "    #items2 = doc('#J_Reviews .tm-rate .rate-grid').items()\n",
    "    #items3 = doc('#J_Reviews .tm-rate .rate-grid').items()\n",
    "    reviews = []\n",
    "    #titles = []\n",
    "    #dates = []\n",
    "    # 获取评论\n",
    "    for item in items1:\n",
    "        reviews.append(item.find('.tm-rate-fulltxt').text())\n",
    "    # 获取颜色和尺码    \n",
    "    #for item in items2:\n",
    "    #    titles.append(item.find('.rate-sku').text())\n",
    "    # 获取日期\n",
    "    #for item in items3:\n",
    "    #    dates.append(item.find('.tm-rate-date').text())\n",
    "    \n",
    "    #把颜色尺码 和 日期list进行split\n",
    "    #titles = titles[0].split(' ')\n",
    "    #dates = dates[0].split(' ')\n",
    "    \n",
    "    # drop '此用户没有填写评论!'的情况，因为会多一个element，之后没有办法和时间对应\n",
    "    #while '此用户没有填写评论!' in reviews:\n",
    "    #    reviews.remove('此用户没有填写评论!')\n",
    "    #    dates.remove('')\n",
    "    \n",
    "    for i in range(len(reviews)):\n",
    "        global_reviews.append(reviews[i])\n",
    "    #    global_titles.append(titles[i])\n",
    "    #    global_dates.append(dates[i])\n",
    "    \n",
    "    print('Successfully scraped!')"
   ]
  },
  {
   "cell_type": "code",
   "execution_count": 35,
   "id": "0cf5c977",
   "metadata": {},
   "outputs": [],
   "source": [
    "def hold_slider():\n",
    "    try:\n",
    "        slider = driver.find_element_by_xpath(\"/html/body/div/div[2]/div/div[1]/div[2]/center/div[1]/div/div[1]/span\")\n",
    "        if slider.is_displayed():\n",
    "            ActionChains(driver).click_and_hold(on_element=slider).perform()\n",
    "            ActionChains(driver).move_by_offset(xoffset=258, yoffset=0).perform()\n",
    "            ActionChains(driver).pause(0.5).release().perform()\n",
    "    except:\n",
    "        pass"
   ]
  },
  {
   "cell_type": "code",
   "execution_count": 64,
   "id": "149058fb",
   "metadata": {
    "scrolled": true
   },
   "outputs": [
    {
     "data": {
      "text/plain": [
       "1403"
      ]
     },
     "execution_count": 64,
     "metadata": {},
     "output_type": "execute_result"
    }
   ],
   "source": [
    "len(global_reviews)"
   ]
  },
  {
   "cell_type": "code",
   "execution_count": 60,
   "id": "518ab18c",
   "metadata": {},
   "outputs": [
    {
     "name": "stdout",
     "output_type": "stream",
     "text": [
      "Successfully scraped!\n",
      "Successfully scraped!\n",
      "Successfully scraped!\n",
      "Successfully scraped!\n",
      "Successfully scraped!\n",
      "Successfully scraped!\n",
      "Successfully scraped!\n",
      "Successfully scraped!\n",
      "Successfully scraped!\n",
      "Successfully scraped!\n",
      "Successfully scraped!\n",
      "Successfully scraped!\n",
      "Successfully scraped!\n",
      "Successfully scraped!\n",
      "Successfully scraped!\n",
      "Successfully scraped!\n",
      "Successfully scraped!\n",
      "Successfully scraped!\n",
      "Successfully scraped!\n"
     ]
    },
    {
     "ename": "StaleElementReferenceException",
     "evalue": "Message: stale element reference: element is not attached to the page document\n  (Session info: chrome=95.0.4638.69)\nStacktrace:\nBacktrace:\n\tOrdinal0 [0x00B306F3+2492147]\n\tOrdinal0 [0x00AC9BD1+2071505]\n\tOrdinal0 [0x009D2478+1057912]\n\tOrdinal0 [0x009D4BA4+1067940]\n\tOrdinal0 [0x009D4A6E+1067630]\n\tOrdinal0 [0x009D4CD0+1068240]\n\tOrdinal0 [0x009FE0FC+1237244]\n\tOrdinal0 [0x009F3573+1193331]\n\tOrdinal0 [0x00A157C3+1333187]\n\tOrdinal0 [0x009F3466+1193062]\n\tOrdinal0 [0x00A158AA+1333418]\n\tOrdinal0 [0x00A24F38+1396536]\n\tOrdinal0 [0x00A1568B+1332875]\n\tOrdinal0 [0x009F21D4+1188308]\n\tOrdinal0 [0x009F302F+1191983]\n\tGetHandleVerifier [0x00CB67A6+1545030]\n\tGetHandleVerifier [0x00D6105C+2243580]\n\tGetHandleVerifier [0x00BBBC97+518199]\n\tGetHandleVerifier [0x00BBAD80+514336]\n\tOrdinal0 [0x00ACED2D+2092333]\n\tOrdinal0 [0x00AD2EE8+2109160]\n\tOrdinal0 [0x00AD3022+2109474]\n\tOrdinal0 [0x00ADCB71+2149233]\n\tBaseThreadInitThunk [0x7561FA29+25]\n\tRtlGetAppContainerNamedObjectPath [0x76F47A9E+286]\n\tRtlGetAppContainerNamedObjectPath [0x76F47A6E+238]\n",
     "output_type": "error",
     "traceback": [
      "\u001b[1;31m---------------------------------------------------------------------------\u001b[0m",
      "\u001b[1;31mStaleElementReferenceException\u001b[0m            Traceback (most recent call last)",
      "\u001b[1;32m<ipython-input-60-2ad0f3656ce0>\u001b[0m in \u001b[0;36m<module>\u001b[1;34m\u001b[0m\n\u001b[0;32m      5\u001b[0m \u001b[1;33m\u001b[0m\u001b[0m\n\u001b[0;32m      6\u001b[0m \u001b[1;32mif\u001b[0m \u001b[0m__name__\u001b[0m \u001b[1;33m==\u001b[0m \u001b[1;34m\"__main__\"\u001b[0m\u001b[1;33m:\u001b[0m\u001b[1;33m\u001b[0m\u001b[1;33m\u001b[0m\u001b[0m\n\u001b[1;32m----> 7\u001b[1;33m     \u001b[0mmain\u001b[0m\u001b[1;33m(\u001b[0m\u001b[1;33m)\u001b[0m\u001b[1;33m\u001b[0m\u001b[1;33m\u001b[0m\u001b[0m\n\u001b[0m",
      "\u001b[1;32m<ipython-input-60-2ad0f3656ce0>\u001b[0m in \u001b[0;36mmain\u001b[1;34m()\u001b[0m\n\u001b[0;32m      2\u001b[0m     \u001b[1;32mfor\u001b[0m \u001b[0mi\u001b[0m \u001b[1;32min\u001b[0m \u001b[0mrange\u001b[0m\u001b[1;33m(\u001b[0m\u001b[1;36m50\u001b[0m\u001b[1;33m,\u001b[0m\u001b[1;36m100\u001b[0m\u001b[1;33m)\u001b[0m\u001b[1;33m:\u001b[0m\u001b[1;33m\u001b[0m\u001b[1;33m\u001b[0m\u001b[0m\n\u001b[0;32m      3\u001b[0m         \u001b[0mget_products\u001b[0m\u001b[1;33m(\u001b[0m\u001b[1;33m)\u001b[0m\u001b[1;33m\u001b[0m\u001b[1;33m\u001b[0m\u001b[0m\n\u001b[1;32m----> 4\u001b[1;33m         \u001b[0mnext_page\u001b[0m\u001b[1;33m(\u001b[0m\u001b[0mi\u001b[0m\u001b[1;33m)\u001b[0m\u001b[1;33m\u001b[0m\u001b[1;33m\u001b[0m\u001b[0m\n\u001b[0m\u001b[0;32m      5\u001b[0m \u001b[1;33m\u001b[0m\u001b[0m\n\u001b[0;32m      6\u001b[0m \u001b[1;32mif\u001b[0m \u001b[0m__name__\u001b[0m \u001b[1;33m==\u001b[0m \u001b[1;34m\"__main__\"\u001b[0m\u001b[1;33m:\u001b[0m\u001b[1;33m\u001b[0m\u001b[1;33m\u001b[0m\u001b[0m\n",
      "\u001b[1;32m<ipython-input-8-90d9b988d856>\u001b[0m in \u001b[0;36mnext_page\u001b[1;34m(i)\u001b[0m\n\u001b[0;32m     21\u001b[0m             )\n\u001b[0;32m     22\u001b[0m             \u001b[1;31m# 点击确定，进行翻页\u001b[0m\u001b[1;33m\u001b[0m\u001b[1;33m\u001b[0m\u001b[1;33m\u001b[0m\u001b[0m\n\u001b[1;32m---> 23\u001b[1;33m             \u001b[0msubmit\u001b[0m\u001b[1;33m.\u001b[0m\u001b[0mclick\u001b[0m\u001b[1;33m(\u001b[0m\u001b[1;33m)\u001b[0m\u001b[1;33m\u001b[0m\u001b[1;33m\u001b[0m\u001b[0m\n\u001b[0m\u001b[0;32m     24\u001b[0m     \u001b[1;32mexcept\u001b[0m \u001b[0mTimeoutException\u001b[0m\u001b[1;33m:\u001b[0m\u001b[1;33m\u001b[0m\u001b[1;33m\u001b[0m\u001b[0m\n\u001b[0;32m     25\u001b[0m         \u001b[0mnext_page\u001b[0m\u001b[1;33m(\u001b[0m\u001b[0mi\u001b[0m\u001b[1;33m)\u001b[0m\u001b[1;33m\u001b[0m\u001b[1;33m\u001b[0m\u001b[0m\n",
      "\u001b[1;32m~\\anaconda3\\lib\\site-packages\\selenium\\webdriver\\remote\\webelement.py\u001b[0m in \u001b[0;36mclick\u001b[1;34m(self)\u001b[0m\n\u001b[0;32m     78\u001b[0m     \u001b[1;32mdef\u001b[0m \u001b[0mclick\u001b[0m\u001b[1;33m(\u001b[0m\u001b[0mself\u001b[0m\u001b[1;33m)\u001b[0m \u001b[1;33m->\u001b[0m \u001b[1;32mNone\u001b[0m\u001b[1;33m:\u001b[0m\u001b[1;33m\u001b[0m\u001b[1;33m\u001b[0m\u001b[0m\n\u001b[0;32m     79\u001b[0m         \u001b[1;34m\"\"\"Clicks the element.\"\"\"\u001b[0m\u001b[1;33m\u001b[0m\u001b[1;33m\u001b[0m\u001b[0m\n\u001b[1;32m---> 80\u001b[1;33m         \u001b[0mself\u001b[0m\u001b[1;33m.\u001b[0m\u001b[0m_execute\u001b[0m\u001b[1;33m(\u001b[0m\u001b[0mCommand\u001b[0m\u001b[1;33m.\u001b[0m\u001b[0mCLICK_ELEMENT\u001b[0m\u001b[1;33m)\u001b[0m\u001b[1;33m\u001b[0m\u001b[1;33m\u001b[0m\u001b[0m\n\u001b[0m\u001b[0;32m     81\u001b[0m \u001b[1;33m\u001b[0m\u001b[0m\n\u001b[0;32m     82\u001b[0m     \u001b[1;32mdef\u001b[0m \u001b[0msubmit\u001b[0m\u001b[1;33m(\u001b[0m\u001b[0mself\u001b[0m\u001b[1;33m)\u001b[0m\u001b[1;33m:\u001b[0m\u001b[1;33m\u001b[0m\u001b[1;33m\u001b[0m\u001b[0m\n",
      "\u001b[1;32m~\\anaconda3\\lib\\site-packages\\selenium\\webdriver\\remote\\webelement.py\u001b[0m in \u001b[0;36m_execute\u001b[1;34m(self, command, params)\u001b[0m\n\u001b[0;32m    691\u001b[0m             \u001b[0mparams\u001b[0m \u001b[1;33m=\u001b[0m \u001b[1;33m{\u001b[0m\u001b[1;33m}\u001b[0m\u001b[1;33m\u001b[0m\u001b[1;33m\u001b[0m\u001b[0m\n\u001b[0;32m    692\u001b[0m         \u001b[0mparams\u001b[0m\u001b[1;33m[\u001b[0m\u001b[1;34m'id'\u001b[0m\u001b[1;33m]\u001b[0m \u001b[1;33m=\u001b[0m \u001b[0mself\u001b[0m\u001b[1;33m.\u001b[0m\u001b[0m_id\u001b[0m\u001b[1;33m\u001b[0m\u001b[1;33m\u001b[0m\u001b[0m\n\u001b[1;32m--> 693\u001b[1;33m         \u001b[1;32mreturn\u001b[0m \u001b[0mself\u001b[0m\u001b[1;33m.\u001b[0m\u001b[0m_parent\u001b[0m\u001b[1;33m.\u001b[0m\u001b[0mexecute\u001b[0m\u001b[1;33m(\u001b[0m\u001b[0mcommand\u001b[0m\u001b[1;33m,\u001b[0m \u001b[0mparams\u001b[0m\u001b[1;33m)\u001b[0m\u001b[1;33m\u001b[0m\u001b[1;33m\u001b[0m\u001b[0m\n\u001b[0m\u001b[0;32m    694\u001b[0m \u001b[1;33m\u001b[0m\u001b[0m\n\u001b[0;32m    695\u001b[0m     \u001b[1;32mdef\u001b[0m \u001b[0mfind_element\u001b[0m\u001b[1;33m(\u001b[0m\u001b[0mself\u001b[0m\u001b[1;33m,\u001b[0m \u001b[0mby\u001b[0m\u001b[1;33m=\u001b[0m\u001b[0mBy\u001b[0m\u001b[1;33m.\u001b[0m\u001b[0mID\u001b[0m\u001b[1;33m,\u001b[0m \u001b[0mvalue\u001b[0m\u001b[1;33m=\u001b[0m\u001b[1;32mNone\u001b[0m\u001b[1;33m)\u001b[0m\u001b[1;33m:\u001b[0m\u001b[1;33m\u001b[0m\u001b[1;33m\u001b[0m\u001b[0m\n",
      "\u001b[1;32m~\\anaconda3\\lib\\site-packages\\selenium\\webdriver\\remote\\webdriver.py\u001b[0m in \u001b[0;36mexecute\u001b[1;34m(self, driver_command, params)\u001b[0m\n\u001b[0;32m    416\u001b[0m         \u001b[0mresponse\u001b[0m \u001b[1;33m=\u001b[0m \u001b[0mself\u001b[0m\u001b[1;33m.\u001b[0m\u001b[0mcommand_executor\u001b[0m\u001b[1;33m.\u001b[0m\u001b[0mexecute\u001b[0m\u001b[1;33m(\u001b[0m\u001b[0mdriver_command\u001b[0m\u001b[1;33m,\u001b[0m \u001b[0mparams\u001b[0m\u001b[1;33m)\u001b[0m\u001b[1;33m\u001b[0m\u001b[1;33m\u001b[0m\u001b[0m\n\u001b[0;32m    417\u001b[0m         \u001b[1;32mif\u001b[0m \u001b[0mresponse\u001b[0m\u001b[1;33m:\u001b[0m\u001b[1;33m\u001b[0m\u001b[1;33m\u001b[0m\u001b[0m\n\u001b[1;32m--> 418\u001b[1;33m             \u001b[0mself\u001b[0m\u001b[1;33m.\u001b[0m\u001b[0merror_handler\u001b[0m\u001b[1;33m.\u001b[0m\u001b[0mcheck_response\u001b[0m\u001b[1;33m(\u001b[0m\u001b[0mresponse\u001b[0m\u001b[1;33m)\u001b[0m\u001b[1;33m\u001b[0m\u001b[1;33m\u001b[0m\u001b[0m\n\u001b[0m\u001b[0;32m    419\u001b[0m             response['value'] = self._unwrap_value(\n\u001b[0;32m    420\u001b[0m                 response.get('value', None))\n",
      "\u001b[1;32m~\\anaconda3\\lib\\site-packages\\selenium\\webdriver\\remote\\errorhandler.py\u001b[0m in \u001b[0;36mcheck_response\u001b[1;34m(self, response)\u001b[0m\n\u001b[0;32m    241\u001b[0m                 \u001b[0malert_text\u001b[0m \u001b[1;33m=\u001b[0m \u001b[0mvalue\u001b[0m\u001b[1;33m[\u001b[0m\u001b[1;34m'alert'\u001b[0m\u001b[1;33m]\u001b[0m\u001b[1;33m.\u001b[0m\u001b[0mget\u001b[0m\u001b[1;33m(\u001b[0m\u001b[1;34m'text'\u001b[0m\u001b[1;33m)\u001b[0m\u001b[1;33m\u001b[0m\u001b[1;33m\u001b[0m\u001b[0m\n\u001b[0;32m    242\u001b[0m             \u001b[1;32mraise\u001b[0m \u001b[0mexception_class\u001b[0m\u001b[1;33m(\u001b[0m\u001b[0mmessage\u001b[0m\u001b[1;33m,\u001b[0m \u001b[0mscreen\u001b[0m\u001b[1;33m,\u001b[0m \u001b[0mstacktrace\u001b[0m\u001b[1;33m,\u001b[0m \u001b[0malert_text\u001b[0m\u001b[1;33m)\u001b[0m  \u001b[1;31m# type: ignore[call-arg]  # mypy is not smart enough here\u001b[0m\u001b[1;33m\u001b[0m\u001b[1;33m\u001b[0m\u001b[0m\n\u001b[1;32m--> 243\u001b[1;33m         \u001b[1;32mraise\u001b[0m \u001b[0mexception_class\u001b[0m\u001b[1;33m(\u001b[0m\u001b[0mmessage\u001b[0m\u001b[1;33m,\u001b[0m \u001b[0mscreen\u001b[0m\u001b[1;33m,\u001b[0m \u001b[0mstacktrace\u001b[0m\u001b[1;33m)\u001b[0m\u001b[1;33m\u001b[0m\u001b[1;33m\u001b[0m\u001b[0m\n\u001b[0m\u001b[0;32m    244\u001b[0m \u001b[1;33m\u001b[0m\u001b[0m\n\u001b[0;32m    245\u001b[0m     \u001b[1;32mdef\u001b[0m \u001b[0m_value_or_default\u001b[0m\u001b[1;33m(\u001b[0m\u001b[0mself\u001b[0m\u001b[1;33m,\u001b[0m \u001b[0mobj\u001b[0m\u001b[1;33m:\u001b[0m \u001b[0mMapping\u001b[0m\u001b[1;33m[\u001b[0m\u001b[0m_KT\u001b[0m\u001b[1;33m,\u001b[0m \u001b[0m_VT\u001b[0m\u001b[1;33m]\u001b[0m\u001b[1;33m,\u001b[0m \u001b[0mkey\u001b[0m\u001b[1;33m:\u001b[0m \u001b[0m_KT\u001b[0m\u001b[1;33m,\u001b[0m \u001b[0mdefault\u001b[0m\u001b[1;33m:\u001b[0m \u001b[0m_VT\u001b[0m\u001b[1;33m)\u001b[0m \u001b[1;33m->\u001b[0m \u001b[0m_VT\u001b[0m\u001b[1;33m:\u001b[0m\u001b[1;33m\u001b[0m\u001b[1;33m\u001b[0m\u001b[0m\n",
      "\u001b[1;31mStaleElementReferenceException\u001b[0m: Message: stale element reference: element is not attached to the page document\n  (Session info: chrome=95.0.4638.69)\nStacktrace:\nBacktrace:\n\tOrdinal0 [0x00B306F3+2492147]\n\tOrdinal0 [0x00AC9BD1+2071505]\n\tOrdinal0 [0x009D2478+1057912]\n\tOrdinal0 [0x009D4BA4+1067940]\n\tOrdinal0 [0x009D4A6E+1067630]\n\tOrdinal0 [0x009D4CD0+1068240]\n\tOrdinal0 [0x009FE0FC+1237244]\n\tOrdinal0 [0x009F3573+1193331]\n\tOrdinal0 [0x00A157C3+1333187]\n\tOrdinal0 [0x009F3466+1193062]\n\tOrdinal0 [0x00A158AA+1333418]\n\tOrdinal0 [0x00A24F38+1396536]\n\tOrdinal0 [0x00A1568B+1332875]\n\tOrdinal0 [0x009F21D4+1188308]\n\tOrdinal0 [0x009F302F+1191983]\n\tGetHandleVerifier [0x00CB67A6+1545030]\n\tGetHandleVerifier [0x00D6105C+2243580]\n\tGetHandleVerifier [0x00BBBC97+518199]\n\tGetHandleVerifier [0x00BBAD80+514336]\n\tOrdinal0 [0x00ACED2D+2092333]\n\tOrdinal0 [0x00AD2EE8+2109160]\n\tOrdinal0 [0x00AD3022+2109474]\n\tOrdinal0 [0x00ADCB71+2149233]\n\tBaseThreadInitThunk [0x7561FA29+25]\n\tRtlGetAppContainerNamedObjectPath [0x76F47A9E+286]\n\tRtlGetAppContainerNamedObjectPath [0x76F47A6E+238]\n"
     ]
    }
   ],
   "source": [
    "def main():\n",
    "    for i in range(50,100):\n",
    "        get_products()\n",
    "        next_page(i)\n",
    "\n",
    "if __name__ == \"__main__\":\n",
    "    main()"
   ]
  },
  {
   "cell_type": "code",
   "execution_count": null,
   "id": "d1ddcae7",
   "metadata": {},
   "outputs": [],
   "source": [
    "# 60 pages all scraped and save to csv first."
   ]
  },
  {
   "cell_type": "code",
   "execution_count": 66,
   "id": "03c6ae98",
   "metadata": {},
   "outputs": [],
   "source": [
    "import re\n",
    "temp = []\n",
    "\n",
    "for i in range(len(global_reviews)):\n",
    "    a = ''\n",
    "    b = re.findall(r'[0-9\\u4e00-\\u9fff]+',global_reviews[i])\n",
    "    temp.append([i, a.join(b)])"
   ]
  },
  {
   "cell_type": "code",
   "execution_count": 78,
   "id": "1a5855fe",
   "metadata": {},
   "outputs": [],
   "source": [
    "import csv"
   ]
  },
  {
   "cell_type": "code",
   "execution_count": 79,
   "id": "9a003284",
   "metadata": {
    "scrolled": true
   },
   "outputs": [],
   "source": [
    "# 尝试import 到 csv\n",
    "data = temp\n",
    "\n",
    "with open(\"menshark_smurfs_pants_reviews_1603.csv\", \"w\", newline=\"\") as f:\n",
    "    writer = csv.writer(f)\n",
    "    writer.writerows(data)"
   ]
  },
  {
   "cell_type": "code",
   "execution_count": 82,
   "id": "f7e8d824",
   "metadata": {},
   "outputs": [
    {
     "data": {
      "text/plain": [
       "1403"
      ]
     },
     "execution_count": 82,
     "metadata": {},
     "output_type": "execute_result"
    }
   ],
   "source": [
    "len(temp)"
   ]
  },
  {
   "cell_type": "markdown",
   "id": "ff084b51",
   "metadata": {},
   "source": [
    "我们希望把关键词和对应的频率提取出来"
   ]
  },
  {
   "cell_type": "code",
   "execution_count": 109,
   "id": "53846130",
   "metadata": {},
   "outputs": [],
   "source": [
    "from snownlp import SnowNLP"
   ]
  },
  {
   "cell_type": "code",
   "execution_count": 95,
   "id": "a889182b",
   "metadata": {},
   "outputs": [],
   "source": [
    "sentence = []\n",
    "for x in temp:\n",
    "    sentence.append(x[1])"
   ]
  },
  {
   "cell_type": "code",
   "execution_count": 145,
   "id": "e09d737a",
   "metadata": {
    "scrolled": true
   },
   "outputs": [],
   "source": [
    "words_cnt = {}\n",
    "for x in set(sentence):\n",
    "    if x == '':\n",
    "        continue\n",
    "    nlp_words = SnowNLP(x).words\n",
    "    for y in nlp_words:\n",
    "        if y in words_cnt:\n",
    "            words_cnt[y] += 1\n",
    "        else:\n",
    "            words_cnt[y] = 1"
   ]
  },
  {
   "cell_type": "code",
   "execution_count": 146,
   "id": "f1b0d36f",
   "metadata": {},
   "outputs": [],
   "source": [
    "# here words_cnt is a dict\n",
    "def remove_wuxiao_char(words_cnt):\n",
    "    words_cnt.pop('很')\n",
    "    words_cnt.pop('的')\n",
    "    words_cnt.pop('好')\n",
    "    words_cnt.pop('了')\n",
    "    words_cnt.pop('穿')\n",
    "    words_cnt.pop('买')\n",
    "    words_cnt.pop('也')\n",
    "    words_cnt.pop('是')\n",
    "    words_cnt.pop('挺')\n",
    "    words_cnt.pop('还')\n",
    "    words_cnt.pop('间')\n",
    "    words_cnt.pop('就')\n",
    "    words_cnt.pop('有')\n",
    "    words_cnt.pop('一')\n",
    "    words_cnt.pop('给')\n",
    "    words_cnt.pop('抢')\n",
    "    words_cnt.pop('比')\n",
    "    words_cnt.pop('会')\n",
    "    words_cnt.pop('我')\n",
    "    words_cnt.pop('们')\n",
    "    words_cnt.pop('在')\n",
    "    words_cnt.pop('非常')\n",
    "    words_cnt.pop('中')\n",
    "    words_cnt.pop('对')\n",
    "    words_cnt.pop('但是')\n",
    "    words_cnt.pop('来')\n",
    "    words_cnt.pop('点')\n",
    "    words_cnt.pop('显')\n",
    "    words_cnt.pop('个')\n",
    "    words_cnt.pop('分')\n",
    "    words_cnt.pop('天')\n",
    "    return words_cnt"
   ]
  },
  {
   "cell_type": "code",
   "execution_count": 147,
   "id": "09e31982",
   "metadata": {},
   "outputs": [],
   "source": [
    "words_cnt = remove_wuxiao_char(words_cnt)"
   ]
  },
  {
   "cell_type": "code",
   "execution_count": 130,
   "id": "7209258f",
   "metadata": {},
   "outputs": [],
   "source": [
    "words_cnt_list = []\n",
    "for x,y in words_cnt.items():\n",
    "    words_cnt_list.append((x,y))"
   ]
  },
  {
   "cell_type": "code",
   "execution_count": 133,
   "id": "e07caedb",
   "metadata": {},
   "outputs": [
    {
     "data": {
      "text/plain": [
       "[('质量', 537),\n",
       " ('不错', 323),\n",
       " ('裤子', 315),\n",
       " ('厚实', 302),\n",
       " ('好看', 192),\n",
       " ('直播', 188),\n",
       " ('喜欢', 170),\n",
       " ('不', 163),\n",
       " ('娅', 151),\n",
       " ('价格', 134),\n",
       " ('舒服', 132),\n",
       " ('可以', 120),\n",
       " ('薇', 109),\n",
       " ('精灵', 108),\n",
       " ('满意', 107),\n",
       " ('蓝', 107),\n",
       " ('着', 105),\n",
       " ('面料', 95),\n",
       " ('合适', 92),\n",
       " ('大', 83),\n",
       " ('太', 82),\n",
       " ('推荐', 81),\n",
       " ('看', 78),\n",
       " ('划算', 69),\n",
       " ('没', 67),\n",
       " ('这个', 65),\n",
       " ('高', 63),\n",
       " ('可爱', 63),\n",
       " ('值得', 62),\n",
       " ('到', 61),\n",
       " ('节', 60),\n",
       " ('价', 59),\n",
       " ('实惠', 58),\n",
       " ('码', 55),\n",
       " ('便宜', 51),\n",
       " ('条', 50),\n",
       " ('收到', 50),\n",
       " ('上', 49),\n",
       " ('超级', 49),\n",
       " ('发货', 48),\n",
       " ('说', 48),\n",
       " ('图案', 47),\n",
       " ('都', 47),\n",
       " ('次', 47),\n",
       " ('快', 47),\n",
       " ('购买', 46),\n",
       " ('比较', 46),\n",
       " ('宝贝', 45),\n",
       " ('好评', 44),\n",
       " ('手', 44),\n",
       " ('老', 43),\n",
       " ('款式', 42),\n",
       " ('货', 41),\n",
       " ('型', 41),\n",
       " ('真的', 41),\n",
       " ('物流', 41),\n",
       " ('速度', 41),\n",
       " ('适合', 41),\n",
       " ('舒适', 40),\n",
       " ('特别', 40),\n",
       " ('性', 39),\n",
       " ('正好', 37),\n",
       " ('速', 37),\n",
       " ('宽松', 36),\n",
       " ('服', 36),\n",
       " ('没有', 36),\n",
       " ('做工', 36),\n",
       " ('包装', 36),\n",
       " ('版', 35),\n",
       " ('超值', 35),\n",
       " ('衣服', 34),\n",
       " ('小', 34),\n",
       " ('有点', 34),\n",
       " ('棉', 33),\n",
       " ('颜色', 33),\n",
       " ('吧', 32),\n",
       " ('黑色', 32),\n",
       " ('又', 32),\n",
       " ('孩子', 31),\n",
       " ('手速', 31),\n",
       " ('真', 31),\n",
       " ('感觉', 30),\n",
       " ('优惠', 30),\n",
       " ('购物', 30),\n",
       " ('很厚', 28),\n",
       " ('物美价廉', 28),\n",
       " ('想', 27),\n",
       " ('要', 27),\n",
       " ('卖家', 27),\n",
       " ('公', 27),\n",
       " ('厚度', 27),\n",
       " ('这', 27),\n",
       " ('态度', 27),\n",
       " ('超', 27),\n",
       " ('毛', 26),\n",
       " ('刚刚', 26),\n",
       " ('能', 26),\n",
       " ('尺', 26),\n",
       " ('厚', 26),\n",
       " ('料子', 24),\n",
       " ('大小', 24),\n",
       " ('下次', 24),\n",
       " ('起来', 23),\n",
       " ('时候', 22),\n",
       " ('合身', 22),\n",
       " ('而且', 22),\n",
       " ('赞', 22),\n",
       " ('超所值', 22),\n",
       " ('材质', 21),\n",
       " ('和', 21),\n",
       " ('纯', 21),\n",
       " ('但', 21),\n",
       " ('多', 21),\n",
       " ('东西', 21),\n",
       " ('物', 21),\n",
       " ('质感', 21),\n",
       " ('尺码', 21),\n",
       " ('活动', 20),\n",
       " ('快递', 20),\n",
       " ('棒', 20),\n",
       " ('洗', 20),\n",
       " ('刚好', 20),\n",
       " ('客', 20),\n",
       " ('不好', 20),\n",
       " ('腿', 20),\n",
       " ('自己', 19),\n",
       " ('布料', 19),\n",
       " ('还有', 19),\n",
       " ('样子', 19),\n",
       " ('灰色', 18),\n",
       " ('冬天', 18),\n",
       " ('几', 18),\n",
       " ('后面', 18),\n",
       " ('服务', 18),\n",
       " ('短', 18),\n",
       " ('胖', 18),\n",
       " ('搭', 17),\n",
       " ('设计', 17),\n",
       " ('款', 17),\n",
       " ('人', 17),\n",
       " ('在薇', 17),\n",
       " ('性价', 17),\n",
       " ('再', 17),\n",
       " ('版型', 17),\n",
       " ('效果', 17),\n",
       " ('给力', 17),\n",
       " ('仔细', 17),\n",
       " ('瘦', 16),\n",
       " ('得', 16),\n",
       " ('季节', 16)]"
      ]
     },
     "execution_count": 133,
     "metadata": {},
     "output_type": "execute_result"
    }
   ],
   "source": [
    "sorted_words_cnt_list = sorted(words_cnt_list, key = lambda x: x[1], reverse = True)\n",
    "sorted_words_cnt_list[:150]"
   ]
  },
  {
   "cell_type": "code",
   "execution_count": 134,
   "id": "112155b8",
   "metadata": {},
   "outputs": [],
   "source": [
    "# 尝试import 到 csv\n",
    "data = sorted_words_cnt_list[:150]\n",
    "\n",
    "with open(\"menshark_smurfs_pants_reviews_top_150.csv\", \"w\", newline=\"\") as f:\n",
    "    writer = csv.writer(f)\n",
    "    writer.writerows(data)"
   ]
  },
  {
   "cell_type": "markdown",
   "id": "ffa94c02",
   "metadata": {},
   "source": [
    "感觉还是有很多词被拆开了，所以重新整合一下"
   ]
  },
  {
   "cell_type": "code",
   "execution_count": 148,
   "id": "6edf17d4",
   "metadata": {},
   "outputs": [],
   "source": [
    "# ’质量好‘ 和 ’质量差‘ ,薇娅，物流慢，物流快\n",
    "zl_hao = 0\n",
    "zl_cha = 0\n",
    "wl_k = 0 \n",
    "wl_m = 0\n",
    "viya = 0\n",
    "mao = 0\n",
    "for x in set(sentence):\n",
    "    if '质量' and '差' in x:\n",
    "        zl_cha += 1\n",
    "    if '质量' and '好' in x:\n",
    "        zl_hao += 1\n",
    "    if '薇娅' in x:\n",
    "        viya += 1\n",
    "    if '物流' and '慢' in x:\n",
    "        wl_m += 1\n",
    "    if '物流' and '快' in x:\n",
    "        wl_k += 1\n",
    "    if '毛' in x:\n",
    "        mao += 1\n",
    "    else:\n",
    "        continue"
   ]
  },
  {
   "cell_type": "code",
   "execution_count": null,
   "id": "0d0ee1c6",
   "metadata": {},
   "outputs": [],
   "source": [
    "words_cnt"
   ]
  },
  {
   "cell_type": "code",
   "execution_count": null,
   "id": "1bf6c4ba",
   "metadata": {},
   "outputs": [],
   "source": [
    "words_cnt.pop('质量')"
   ]
  },
  {
   "cell_type": "code",
   "execution_count": 157,
   "id": "67025d6c",
   "metadata": {},
   "outputs": [],
   "source": [
    "words_cnt['质量好'] = zl_hao\n",
    "words_cnt['质量差'] = zl_cha\n",
    "words_cnt['物流快'] = wl_k\n",
    "words_cnt['物流慢'] = wl_m\n",
    "words_cnt['薇娅'] = viya\n",
    "words_cnt['掉毛'] = mao"
   ]
  },
  {
   "cell_type": "code",
   "execution_count": 160,
   "id": "9067f0bb",
   "metadata": {},
   "outputs": [
    {
     "data": {
      "text/plain": [
       "56"
      ]
     },
     "execution_count": 160,
     "metadata": {},
     "output_type": "execute_result"
    }
   ],
   "source": [
    "words_cnt.pop('不')\n",
    "words_cnt.pop('薇')\n",
    "words_cnt.pop('娅')\n",
    "words_cnt.pop('着')"
   ]
  },
  {
   "cell_type": "code",
   "execution_count": 161,
   "id": "dfb329a6",
   "metadata": {},
   "outputs": [],
   "source": [
    "words_cnt_list_revised = []\n",
    "for x,y in words_cnt.items():\n",
    "    words_cnt_list_revised.append((x,y))"
   ]
  },
  {
   "cell_type": "code",
   "execution_count": 162,
   "id": "29918817",
   "metadata": {},
   "outputs": [
    {
     "data": {
      "text/plain": [
       "[('质量好', 372),\n",
       " ('裤子', 165),\n",
       " ('不错', 155),\n",
       " ('厚实', 150),\n",
       " ('好看', 88),\n",
       " ('直播', 85),\n",
       " ('喜欢', 85),\n",
       " ('薇娅', 70),\n",
       " ('舒服', 66),\n",
       " ('可以', 66),\n",
       " ('价格', 65),\n",
       " ('精灵', 58),\n",
       " ('蓝', 57),\n",
       " ('面料', 50),\n",
       " ('合适', 48),\n",
       " ('大', 43),\n",
       " ('满意', 43),\n",
       " ('太', 40),\n",
       " ('看', 37),\n",
       " ('这个', 37),\n",
       " ('推荐', 36),\n",
       " ('没', 36),\n",
       " ('物流快', 35),\n",
       " ('到', 33),\n",
       " ('划算', 32),\n",
       " ('可爱', 32),\n",
       " ('节', 30),\n",
       " ('高', 30),\n",
       " ('条', 29),\n",
       " ('价', 29),\n",
       " ('便宜', 29),\n",
       " ('实惠', 28),\n",
       " ('图案', 26),\n",
       " ('说', 25),\n",
       " ('上', 24),\n",
       " ('老', 24),\n",
       " ('都', 24),\n",
       " ('次', 23),\n",
       " ('适合', 23),\n",
       " ('值得', 23),\n",
       " ('码', 23),\n",
       " ('收到', 23),\n",
       " ('比较', 23),\n",
       " ('发货', 23),\n",
       " ('手', 22),\n",
       " ('款式', 22),\n",
       " ('宝贝', 22),\n",
       " ('快', 22),\n",
       " ('性', 21),\n",
       " ('货', 21),\n",
       " ('速', 20),\n",
       " ('服', 20),\n",
       " ('特别', 20),\n",
       " ('好评', 20),\n",
       " ('舒适', 19),\n",
       " ('购买', 19),\n",
       " ('真的', 19),\n",
       " ('正好', 19),\n",
       " ('物流', 19),\n",
       " ('型', 18),\n",
       " ('宽松', 18),\n",
       " ('没有', 18),\n",
       " ('有点', 18),\n",
       " ('超级', 18),\n",
       " ('小', 18),\n",
       " ('真', 17),\n",
       " ('又', 17),\n",
       " ('感觉', 17),\n",
       " ('棉', 17),\n",
       " ('做工', 16),\n",
       " ('想', 16),\n",
       " ('孩子', 16),\n",
       " ('态度', 16),\n",
       " ('超值', 16),\n",
       " ('吧', 16),\n",
       " ('黑色', 16),\n",
       " ('毛', 16),\n",
       " ('速度', 16),\n",
       " ('这', 15),\n",
       " ('手速', 15),\n",
       " ('衣服', 15),\n",
       " ('时候', 15),\n",
       " ('能', 15),\n",
       " ('洗', 14),\n",
       " ('版', 14),\n",
       " ('公', 14),\n",
       " ('刚刚', 14),\n",
       " ('大小', 14),\n",
       " ('要', 14),\n",
       " ('客', 14),\n",
       " ('厚', 14),\n",
       " ('厚度', 14),\n",
       " ('物美价廉', 13),\n",
       " ('优惠', 13),\n",
       " ('很厚', 13),\n",
       " ('赞', 13),\n",
       " ('起来', 13),\n",
       " ('购物', 13),\n",
       " ('超', 13),\n",
       " ('包装', 13),\n",
       " ('掉毛', 13),\n",
       " ('卖家', 12),\n",
       " ('料子', 12),\n",
       " ('下次', 12),\n",
       " ('不好', 12),\n",
       " ('几', 11),\n",
       " ('质感', 11),\n",
       " ('尺', 11),\n",
       " ('给力', 11),\n",
       " ('快递', 11),\n",
       " ('颜色', 11),\n",
       " ('服务', 11),\n",
       " ('自己', 11),\n",
       " ('纯', 11),\n",
       " ('物', 11),\n",
       " ('超所值', 11),\n",
       " ('活动', 11),\n",
       " ('刚好', 11),\n",
       " ('但', 11),\n",
       " ('69', 10),\n",
       " ('再', 10),\n",
       " ('腿', 10),\n",
       " ('而且', 10),\n",
       " ('公买', 10),\n",
       " ('得', 10),\n",
       " ('短', 10),\n",
       " ('多', 10),\n",
       " ('合身', 10),\n",
       " ('后面', 10),\n",
       " ('效果', 9),\n",
       " ('款', 9),\n",
       " ('腰', 9),\n",
       " ('在薇', 9),\n",
       " ('灰色', 9),\n",
       " ('棒', 9),\n",
       " ('啊', 9),\n",
       " ('人', 9),\n",
       " ('和', 9),\n",
       " ('裤', 9),\n",
       " ('购', 9),\n",
       " ('冬天', 9),\n",
       " ('还有', 9),\n",
       " ('哦', 9),\n",
       " ('材质', 9),\n",
       " ('季节', 9),\n",
       " ('搭', 9),\n",
       " ('更', 8),\n",
       " ('过', 8),\n",
       " ('儿子', 8),\n",
       " ('换', 8)]"
      ]
     },
     "execution_count": 162,
     "metadata": {},
     "output_type": "execute_result"
    }
   ],
   "source": [
    "sorted_words_cnt_list_revised = sorted(words_cnt_list_revised, key = lambda x: x[1], reverse = True)\n",
    "sorted_words_cnt_list_revised[:150]"
   ]
  },
  {
   "cell_type": "code",
   "execution_count": 165,
   "id": "e6804da5",
   "metadata": {},
   "outputs": [],
   "source": [
    "# 尝试import 到 csv\n",
    "data = sorted_words_cnt_list_revised[:150]\n",
    "\n",
    "with open(\"menshark_smurfs_pants_reviews_top_150.csv\", \"w\", newline=\"\") as f:\n",
    "    writer = csv.writer(f)\n",
    "    writer.writerows(data)"
   ]
  },
  {
   "cell_type": "code",
   "execution_count": 167,
   "id": "46513aa9",
   "metadata": {},
   "outputs": [
    {
     "data": {
      "text/plain": [
       "673"
      ]
     },
     "execution_count": 167,
     "metadata": {},
     "output_type": "execute_result"
    }
   ],
   "source": [
    "len(set(sentence))"
   ]
  },
  {
   "cell_type": "code",
   "execution_count": 169,
   "id": "f101f2ce",
   "metadata": {},
   "outputs": [
    {
     "data": {
      "text/plain": [
       "0.019316493313521546"
      ]
     },
     "execution_count": 169,
     "metadata": {},
     "output_type": "execute_result"
    }
   ],
   "source": [
    "# 提到掉毛的频率\n",
    "13 / 673"
   ]
  },
  {
   "cell_type": "code",
   "execution_count": null,
   "id": "29994f91",
   "metadata": {},
   "outputs": [],
   "source": [
    "# 接下来我们来特别分析一下差评\n"
   ]
  },
  {
   "cell_type": "code",
   "execution_count": 177,
   "id": "402a0471",
   "metadata": {},
   "outputs": [],
   "source": [
    "kefu = []\n",
    "for x in set(sentence):\n",
    "    if '客服' in x:\n",
    "        kefu.append(x)"
   ]
  },
  {
   "cell_type": "code",
   "execution_count": 184,
   "id": "db2a8dfd",
   "metadata": {
    "scrolled": true
   },
   "outputs": [],
   "source": [
    "import re"
   ]
  },
  {
   "cell_type": "code",
   "execution_count": 205,
   "id": "8f2b66ee",
   "metadata": {},
   "outputs": [
    {
     "data": {
      "text/plain": [
       "['客服小乔']"
      ]
     },
     "execution_count": 205,
     "metadata": {},
     "output_type": "execute_result"
    }
   ],
   "source": [
    "re.findall('\\客\\服..', kefu[9])"
   ]
  },
  {
   "cell_type": "code",
   "execution_count": 208,
   "id": "46099ccf",
   "metadata": {},
   "outputs": [],
   "source": [
    "kefu_names = []\n",
    "for x in kefu:\n",
    "    kefu_names.append(re.findall('\\客\\服..', x))"
   ]
  },
  {
   "cell_type": "code",
   "execution_count": 211,
   "id": "03038174",
   "metadata": {
    "scrolled": true
   },
   "outputs": [],
   "source": [
    "kefu_dict = {}\n",
    "kefu_dict['客服态度不好'] = 7\n",
    "kefu_dict['客服态度好'] = 12\n",
    "kefu_dict['客服小乔态度耐心'] = 2\n",
    "kefu_dict['客服小周态度好'] = 1\n",
    "kefu_dict['客服小柚态度负责'] = 1\n",
    "kefu_dict['客服小叶态度贴心'] = 1\n",
    "kefu_dict['客服小豆返现不理人'] = 1"
   ]
  },
  {
   "cell_type": "code",
   "execution_count": 213,
   "id": "853fd5ce",
   "metadata": {
    "scrolled": true
   },
   "outputs": [],
   "source": [
    "kefu_list = []\n",
    "for x,y in kefu_dict.items():\n",
    "    kefu_list.append([x,y])"
   ]
  },
  {
   "cell_type": "code",
   "execution_count": 216,
   "id": "e0a31de9",
   "metadata": {},
   "outputs": [],
   "source": [
    "data = kefu_list\n",
    "with open(\"menshark_smurfs_pants_reviews_kefu.csv\", \"w\", newline=\"\") as f:\n",
    "    writer = csv.writer(f)\n",
    "    writer.writerows(data)"
   ]
  },
  {
   "cell_type": "code",
   "execution_count": 221,
   "id": "37b7bfcc",
   "metadata": {},
   "outputs": [
    {
     "data": {
      "text/plain": [
       "673"
      ]
     },
     "execution_count": 221,
     "metadata": {},
     "output_type": "execute_result"
    }
   ],
   "source": [
    "len(set(sentence))"
   ]
  },
  {
   "cell_type": "code",
   "execution_count": 219,
   "id": "c5f4c593",
   "metadata": {
    "scrolled": true
   },
   "outputs": [
    {
     "data": {
      "text/plain": [
       "19"
      ]
     },
     "execution_count": 219,
     "metadata": {},
     "output_type": "execute_result"
    }
   ],
   "source": [
    "len(kefu)"
   ]
  },
  {
   "cell_type": "markdown",
   "id": "afcd2a32",
   "metadata": {},
   "source": [
    "蓝精灵卫衣一共543条有效评论中提到关键词‘质量好’的评论有151条，占比为28%；值得注意的是提到关键词‘掉毛’的评论有71条，占比高达13%."
   ]
  },
  {
   "cell_type": "markdown",
   "id": "261f6bdb",
   "metadata": {},
   "source": [
    "蓝精灵裤子一共673条有效评论中提到关键词‘质量好’的评论有372条，占比达到 55.3%；值得注意的是提到关键词‘掉毛’的评论只有13条，占比约为 2%，相较于蓝精灵卫衣低了11个百分点。673条有效评论中提到‘客服’的有19条，其中表扬客服有12条，7条是吐槽客服态度不好的，值得注意的是客服小乔被特别表扬2次，总表扬数中占比为16%."
   ]
  },
  {
   "cell_type": "code",
   "execution_count": null,
   "id": "133e6ac1",
   "metadata": {},
   "outputs": [],
   "source": []
  },
  {
   "cell_type": "code",
   "execution_count": null,
   "id": "da5d1aa9",
   "metadata": {},
   "outputs": [],
   "source": []
  },
  {
   "cell_type": "code",
   "execution_count": null,
   "id": "09a0b6d9",
   "metadata": {},
   "outputs": [],
   "source": []
  },
  {
   "cell_type": "code",
   "execution_count": null,
   "id": "442db6a4",
   "metadata": {},
   "outputs": [],
   "source": []
  },
  {
   "cell_type": "code",
   "execution_count": null,
   "id": "2bbfa5af",
   "metadata": {},
   "outputs": [],
   "source": []
  },
  {
   "cell_type": "code",
   "execution_count": null,
   "id": "b69b69d9",
   "metadata": {},
   "outputs": [],
   "source": []
  }
 ],
 "metadata": {
  "kernelspec": {
   "display_name": "Python 3",
   "language": "python",
   "name": "python3"
  },
  "language_info": {
   "codemirror_mode": {
    "name": "ipython",
    "version": 3
   },
   "file_extension": ".py",
   "mimetype": "text/x-python",
   "name": "python",
   "nbconvert_exporter": "python",
   "pygments_lexer": "ipython3",
   "version": "3.8.8"
  }
 },
 "nbformat": 4,
 "nbformat_minor": 5
}
