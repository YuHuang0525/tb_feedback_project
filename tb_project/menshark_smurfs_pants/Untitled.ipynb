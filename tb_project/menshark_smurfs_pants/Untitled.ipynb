{
 "cells": [
  {
   "cell_type": "code",
   "execution_count": 1,
   "id": "e0de488b",
   "metadata": {},
   "outputs": [],
   "source": [
    "from selenium import webdriver\n",
    "from webdriver_manager.chrome import ChromeDriverManager\n",
    "from selenium.webdriver.common.by import By\n",
    "from selenium.webdriver.support.ui import WebDriverWait\n",
    "from selenium.webdriver.support import expected_conditions as EC\n",
    "from selenium.common.exceptions import TimeoutException"
   ]
  },
  {
   "cell_type": "code",
   "execution_count": 2,
   "id": "3d441fe6",
   "metadata": {},
   "outputs": [
    {
     "name": "stderr",
     "output_type": "stream",
     "text": [
      "[WDM] - \n",
      "\n",
      "[WDM] - ====== WebDriver manager ======\n",
      "[WDM] - Current google-chrome version is 95.0.4638\n",
      "[WDM] - Get LATEST driver version for 95.0.4638\n",
      "[WDM] - There is no [win32] chromedriver for browser 95.0.4638 in cache\n",
      "[WDM] - Get LATEST driver version for 95.0.4638\n",
      "[WDM] - Trying to download new driver from https://chromedriver.storage.googleapis.com/95.0.4638.69/chromedriver_win32.zip\n",
      "[WDM] - Driver has been saved in cache [C:\\Users\\YH\\.wdm\\drivers\\chromedriver\\win32\\95.0.4638.69]\n",
      "<ipython-input-2-f004ae8d437d>:1: DeprecationWarning: executable_path has been deprecated, please pass in a Service object\n",
      "  driver = webdriver.Chrome(ChromeDriverManager().install())\n"
     ]
    }
   ],
   "source": [
    "driver = webdriver.Chrome(ChromeDriverManager().install())\n",
    "wait = WebDriverWait(driver, 30)"
   ]
  },
  {
   "cell_type": "code",
   "execution_count": 3,
   "id": "0432a49a",
   "metadata": {},
   "outputs": [],
   "source": [
    "def search():\n",
    "    try:\n",
    "        driver.get('https://www.food.com/recipe/gorgeous-chocolate-muffins-305198')\n",
    "        # 等待搜索框加载出来\n",
    "    except TimeoutException:\n",
    "        # 如果出现超时异常，重新执行search()函数\n",
    "        return search()"
   ]
  },
  {
   "cell_type": "code",
   "execution_count": 5,
   "id": "dcbe5254",
   "metadata": {},
   "outputs": [],
   "source": [
    "from pyquery import PyQuery as pq"
   ]
  },
  {
   "cell_type": "code",
   "execution_count": null,
   "id": "a7941878",
   "metadata": {},
   "outputs": [],
   "source": [
    "global_reviews = []\n",
    "\n",
    "def get_products():\n",
    "    html = driver.page_source\n",
    "    doc = pq(html)\n",
    "    ## 注意这个地方需要在下面的item find（）中的div的上一层div！！！只用管div，tr之类的都不用管\n",
    "    items1 = doc('#J_Reviews .tm-rate .tm-rate-content').items()\n",
    "    #items2 = doc('#J_Reviews .tm-rate .rate-grid').items()\n",
    "    #items3 = doc('#J_Reviews .tm-rate .rate-grid').items()\n",
    "    reviews = []\n",
    "    #titles = []\n",
    "    #dates = []\n",
    "    # 获取评论\n",
    "    for item in items1:\n",
    "        reviews.append(item.find('.tm-rate-fulltxt').text())\n",
    "    \n",
    "    for i in range(len(reviews)):\n",
    "        global_reviews.append(reviews[i])\n",
    "    print('Successfully scraped!')"
   ]
  },
  {
   "cell_type": "code",
   "execution_count": 6,
   "id": "99f9640b",
   "metadata": {},
   "outputs": [],
   "source": [
    "html = driver.page_source\n",
    "doc = pq(html)"
   ]
  },
  {
   "cell_type": "code",
   "execution_count": 8,
   "id": "4d410f2b",
   "metadata": {},
   "outputs": [
    {
     "data": {
      "text/plain": [
       "[<html..js.flexbox.flexboxlegacy.canvas.canvastext.webgl.no-touch.geolocation.postmessage.websqldatabase.indexeddb.hashchange.history.draganddrop.websockets.rgba.hsla.multiplebgs.backgroundsize.borderimage.borderradius.boxshadow.textshadow.opacity.cssanimations.csscolumns.cssgradients.cssreflections.csstransforms.csstransforms3d.csstransitions.fontface.generatedcontent.video.audio.localstorage.sessionstorage.webworkers.no-applicationcache.svg.inlinesvg.smil.svgclippaths.adownload>]"
      ]
     },
     "execution_count": 8,
     "metadata": {},
     "output_type": "execute_result"
    }
   ],
   "source": [
    "doc('')"
   ]
  },
  {
   "cell_type": "code",
   "execution_count": null,
   "id": "77935e16",
   "metadata": {},
   "outputs": [],
   "source": []
  },
  {
   "cell_type": "code",
   "execution_count": 4,
   "id": "ef067257",
   "metadata": {},
   "outputs": [],
   "source": [
    "def main():\n",
    "    search()\n",
    "\n",
    "if __name__ == \"__main__\":\n",
    "    main()"
   ]
  },
  {
   "cell_type": "code",
   "execution_count": null,
   "id": "1d28324c",
   "metadata": {},
   "outputs": [],
   "source": []
  },
  {
   "cell_type": "code",
   "execution_count": null,
   "id": "1e4ca58b",
   "metadata": {},
   "outputs": [],
   "source": []
  },
  {
   "cell_type": "code",
   "execution_count": null,
   "id": "c2b13f2d",
   "metadata": {},
   "outputs": [],
   "source": []
  },
  {
   "cell_type": "code",
   "execution_count": null,
   "id": "30f9cfbd",
   "metadata": {},
   "outputs": [],
   "source": []
  },
  {
   "cell_type": "code",
   "execution_count": null,
   "id": "352add45",
   "metadata": {},
   "outputs": [],
   "source": []
  },
  {
   "cell_type": "code",
   "execution_count": null,
   "id": "b93f11e1",
   "metadata": {},
   "outputs": [],
   "source": []
  }
 ],
 "metadata": {
  "kernelspec": {
   "display_name": "Python 3",
   "language": "python",
   "name": "python3"
  },
  "language_info": {
   "codemirror_mode": {
    "name": "ipython",
    "version": 3
   },
   "file_extension": ".py",
   "mimetype": "text/x-python",
   "name": "python",
   "nbconvert_exporter": "python",
   "pygments_lexer": "ipython3",
   "version": "3.8.8"
  }
 },
 "nbformat": 4,
 "nbformat_minor": 5
}
